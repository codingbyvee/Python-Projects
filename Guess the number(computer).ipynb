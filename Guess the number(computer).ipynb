{
 "cells": [
  {
   "cell_type": "code",
   "execution_count": 1,
   "id": "7207f86d",
   "metadata": {},
   "outputs": [
    {
     "name": "stdout",
     "output_type": "stream",
     "text": [
      "Guess a number between 1 and 104\n",
      "Sorry, guess again.Too low.\n",
      "Guess a number between 1 and 108\n",
      "Sorry, guess again. Too high.\n",
      "Guess a number between 1 and 105\n",
      "Sorry, guess again.Too low.\n",
      "Guess a number between 1 and 107\n",
      "Sorry, guess again. Too high.\n",
      "Guess a number between 1 and 106\n",
      "Yay, congrats. You have guessed the number 6 correctly.\n"
     ]
    }
   ],
   "source": [
    "import random\n",
    "\n",
    "def guess(x):\n",
    "    random_number=random.randint(1,x)\n",
    "    guess=0\n",
    "    while guess!=random_number:\n",
    "        guess=int(input(f\"Guess a number between 1 and {x}\"))\n",
    "        if guess < random_number:\n",
    "            print(\"Sorry, guess again.Too low.\")\n",
    "        elif guess > random_number:\n",
    "            print(\"Sorry, guess again. Too high.\")\n",
    "    print(f\"Yay, congrats. You have guessed the number {random_number} correctly!!!\")\n",
    "    \n",
    "guess(10)"
   ]
  },
  {
   "cell_type": "code",
   "execution_count": null,
   "id": "e9f6afbf",
   "metadata": {},
   "outputs": [],
   "source": []
  }
 ],
 "metadata": {
  "kernelspec": {
   "display_name": "Python 3 (ipykernel)",
   "language": "python",
   "name": "python3"
  },
  "language_info": {
   "codemirror_mode": {
    "name": "ipython",
    "version": 3
   },
   "file_extension": ".py",
   "mimetype": "text/x-python",
   "name": "python",
   "nbconvert_exporter": "python",
   "pygments_lexer": "ipython3",
   "version": "3.10.2"
  }
 },
 "nbformat": 4,
 "nbformat_minor": 5
}
