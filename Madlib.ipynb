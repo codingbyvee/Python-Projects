{
 "cells": [
  {
   "cell_type": "code",
   "execution_count": 2,
   "id": "24acbc6c",
   "metadata": {},
   "outputs": [
    {
     "name": "stdout",
     "output_type": "stream",
     "text": [
      "Father: Santosh Kumar\n",
      "Mother: Manjula\n",
      "Brother: Bhuvan \n",
      "Myself: Veena\n",
      "My amily is sweet and small with my father Santosh Kumar. He is my biggest support. My mother Manjula is, who is very kind-hearted and fun-loving. I have a younger brother Bhuvan , without whom our home will be boring and finally me-Veena.\n"
     ]
    }
   ],
   "source": [
    "\n",
    "\n",
    "# # string concatenation (aka how to put strings together)\n",
    "# # suppose we want to create a string that says \"subscribe to _____ \"\n",
    "# youtuber = \"Kylie Ying\" # some string variable\n",
    "\n",
    "# # a few ways to do this\n",
    "# print(\"subscribe to \" + youtuber)\n",
    "# print(\"subscribe to {}\".format(youtuber))\n",
    "# print(f\"subscribe to {youtuber}\")\n",
    "\n",
    "Father = input(\"Father: \")\n",
    "Mother = input(\"Mother: \")\n",
    "Brother = input(\"Brother: \")\n",
    "Me = input(\"Myself: \")\n",
    "\n",
    "madlib = f\"My family is sweet and small with my father {Father}. He is my biggest support. My mother {Mother} is, who is very kind-hearted and fun-loving. I have a younger brother {Brother}, without whom our home will be boring and finally me-{Me}.\"\n",
    "\n",
    "print(madlib)"
   ]
  },
  {
   "cell_type": "code",
   "execution_count": null,
   "id": "5ef3b175",
   "metadata": {},
   "outputs": [],
   "source": []
  }
 ],
 "metadata": {
  "kernelspec": {
   "display_name": "Python 3 (ipykernel)",
   "language": "python",
   "name": "python3"
  },
  "language_info": {
   "codemirror_mode": {
    "name": "ipython",
    "version": 3
   },
   "file_extension": ".py",
   "mimetype": "text/x-python",
   "name": "python",
   "nbconvert_exporter": "python",
   "pygments_lexer": "ipython3",
   "version": "3.10.2"
  }
 },
 "nbformat": 4,
 "nbformat_minor": 5
}
