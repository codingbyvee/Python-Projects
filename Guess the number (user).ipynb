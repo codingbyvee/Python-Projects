{
 "cells": [
  {
   "cell_type": "code",
   "execution_count": 1,
   "id": "d6af8f98",
   "metadata": {},
   "outputs": [
    {
     "name": "stdout",
     "output_type": "stream",
     "text": [
      "Is 4 too high (H), too low (L), or correct (C)??l\n",
      "Is 8 too high (H), too low (L), or correct (C)??h\n",
      "Is 7 too high (H), too low (L), or correct (C)??h\n",
      "Is 6 too high (H), too low (L), or correct (C)??c\n",
      "Yay! Tha computer guessed your number, {guess}, correcly!\n"
     ]
    }
   ],
   "source": [
    "import random\n",
    "\n",
    "def computer_guess(x):\n",
    "    low = 1\n",
    "    high = x\n",
    "    feedback = ''\n",
    "    while feedback!='c':\n",
    "        if low!=high:\n",
    "            guess = random.randint(low,high)\n",
    "        else:\n",
    "            guess = low\n",
    "        feedback = input(f'Is {guess} too high (H), too low (L), or correct (C)??').lower()\n",
    "        if feedback == 'h':\n",
    "            high = guess -1\n",
    "        if feedback == 'l':\n",
    "            low = guess + 1\n",
    "    print(\"Yay! Tha computer guessed your number, {guess}, correcly!\")\n",
    "    \n",
    "computer_guess(10)\n",
    "        "
   ]
  },
  {
   "cell_type": "code",
   "execution_count": null,
   "id": "607677ce",
   "metadata": {},
   "outputs": [],
   "source": []
  }
 ],
 "metadata": {
  "kernelspec": {
   "display_name": "Python 3 (ipykernel)",
   "language": "python",
   "name": "python3"
  },
  "language_info": {
   "codemirror_mode": {
    "name": "ipython",
    "version": 3
   },
   "file_extension": ".py",
   "mimetype": "text/x-python",
   "name": "python",
   "nbconvert_exporter": "python",
   "pygments_lexer": "ipython3",
   "version": "3.10.2"
  }
 },
 "nbformat": 4,
 "nbformat_minor": 5
}
